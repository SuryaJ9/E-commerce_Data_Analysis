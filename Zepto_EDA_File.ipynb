{
 "cells": [
  {
   "cell_type": "code",
   "execution_count": 8,
   "id": "ca648ad8-a8b9-4545-a3cc-e46ee8796a66",
   "metadata": {},
   "outputs": [
    {
     "name": "stdout",
     "output_type": "stream",
     "text": [
      "                                      name            category        mrp  \\\n",
      "0     Borges Extra Light Olive Oil Bottle   Cooking Essentials  260000.00   \n",
      "1     Borges Extra Light Olive Oil Bottle             Munchies  260000.00   \n",
      "2  Praakritik Natural Desi Gir Cow A2 Ghee  Cooking Essentials  145000.00   \n",
      "3  Praakritik Natural Desi Gir Cow A2 Ghee            Munchies  145000.00   \n",
      "4                       Saffola Gold (Jar)  Cooking Essentials  124000.00   \n",
      "\n",
      "  discountedsellingprice discountpercent  \n",
      "0              139900.00           46.00  \n",
      "1              139900.00           46.00  \n",
      "2              130500.00           10.00  \n",
      "3              130500.00           10.00  \n",
      "4              124000.00            0.00  \n",
      "✅ Data pushed successfully to Google Sheets!\n"
     ]
    }
   ],
   "source": [
    "# ======================================================\n",
    "# E-commerce Analytics Dashboard: PostgreSQL -> Python -> Google Sheets\n",
    "# Author: Top 1% Analyst Template\n",
    "# ======================================================\n",
    "\n",
    "import psycopg2\n",
    "import pandas as pd\n",
    "import gspread\n",
    "from oauth2client.service_account import ServiceAccountCredentials\n",
    "from gspread_dataframe import set_with_dataframe\n",
    "\n",
    "# -----------------------------\n",
    "# 1️⃣ Connect to PostgreSQL\n",
    "# -----------------------------\n",
    "def run_query(query):\n",
    "    conn = psycopg2.connect(\n",
    "        dbname=\"db_name\",   # Change this to your database name\n",
    "        user=\"username\",                           # Your PostgreSQL username\n",
    "        password=\"your_db_password\",                    # Your PostgreSQL password\n",
    "        host=\"localhost\",                          # or IP if it's remote\n",
    "        port=\"5432\" \n",
    "    )\n",
    "    cur = conn.cursor()\n",
    "    cur.execute(query)\n",
    "    data = cur.fetchall()\n",
    "    columns = [desc[0] for desc in cur.description]  # Get column names\n",
    "    df = pd.DataFrame(data, columns=columns)\n",
    "    cur.close()\n",
    "    conn.close()\n",
    "    return df\n",
    "\n",
    "# -------------------------------\n",
    "# 2. Google Sheets Authentication\n",
    "# -------------------------------\n",
    "scope = [\"https://spreadsheets.google.com/feeds\",\n",
    "         \"https://www.googleapis.com/auth/drive\"]\n",
    "\n",
    "# Use your downloaded credentials JSON file\n",
    "creds = ServiceAccountCredentials.from_json_keyfile_name(\"sheets_Automation.json\", scope)\n",
    "client = gspread.authorize(creds)\n",
    "\n",
    "# Open the sheet by URL (remove ?gid=0#gid=0 part)\n",
    "sheet1 = client.open_by_url(\"Google_sheets_working_url")\n",
    "\n",
    "# Select worksheet\n",
    "sheet = sheet1.worksheet(\"Zepto1\")\n",
    "\n",
    "# -------------------------------\n",
    "# 3. Run Query and Push to Google Sheets\n",
    "# -------------------------------\n",
    "query = \"\"\"\n",
    "select name,\n",
    "category,\n",
    "mrp,\n",
    "discountedSellingPrice,\n",
    "discountPercent\n",
    "from zepto\n",
    "order by 4 desc\n",
    "limit 5;\n",
    "\"\"\"\n",
    "\n",
    "df = run_query(query)\n",
    "print(df)  # For debugging\n",
    "\n",
    "# Write DataFrame to Google Sheets\n",
    "set_with_dataframe(sheet, df)\n",
    "print(\"✅ Data pushed successfully to Google Sheets!\")"
   ]
  },
  {
   "cell_type": "code",
   "execution_count": 14,
   "id": "a4835d86-7d54-479b-999f-e73e9f11b5d5",
   "metadata": {},
   "outputs": [
    {
     "name": "stderr",
     "output_type": "stream",
     "text": [
      "C:\\Users\\Jayasurya R N\\AppData\\Local\\Temp\\ipykernel_22724\\3095730502.py:47: DeprecationWarning: The order of arguments in worksheet.update() has changed. Please pass values first and range_name secondor used named arguments (range_name=, values=)\n",
      "  sheet.update(f\"A{next_row}\", [[f\"--- New Query Result ---\"]])\n"
     ]
    },
    {
     "name": "stdout",
     "output_type": "stream",
     "text": [
      "✅ Query results appended successfully to Zepto1!\n",
      "✅ Query results appended successfully to Zepto1!\n",
      "✅ Query results appended successfully to Zepto1!\n"
     ]
    }
   ],
   "source": [
    "import psycopg2\n",
    "import pandas as pd\n",
    "import gspread\n",
    "from oauth2client.service_account import ServiceAccountCredentials\n",
    "from gspread_dataframe import set_with_dataframe\n",
    "\n",
    "# -----------------------------\n",
    "# 1️⃣ Connect to PostgreSQL and run query\n",
    "# -----------------------------\n",
    "def run_query(query):\n",
    "    conn = psycopg2.connect(\n",
    "        dbname=\"db_name\",   # Change this to your database name\n",
    "        user=\"username\",                           # Your PostgreSQL username\n",
    "        password=\"your_db_password\",                    # Your PostgreSQL password\n",
    "        host=\"localhost\",                          # or IP if it's remote\n",
    "        port=\"5432\" \n",
    "    )\n",
    "    cur = conn.cursor()\n",
    "    cur.execute(query)\n",
    "    data = cur.fetchall()\n",
    "    columns = [desc[0] for desc in cur.description]\n",
    "    df = pd.DataFrame(data, columns=columns)\n",
    "    cur.close()\n",
    "    conn.close()\n",
    "    return df\n",
    "\n",
    "# -----------------------------\n",
    "# 2️⃣ Google Sheets Authentication\n",
    "# -----------------------------\n",
    "scope = [\"https://spreadsheets.google.com/feeds\",\n",
    "         \"https://www.googleapis.com/auth/drive\"]\n",
    "\n",
    "creds = ServiceAccountCredentials.from_json_keyfile_name(\"json_file\", scope)\n",
    "client = gspread.authorize(creds)\n",
    "\n",
    "# -----------------------------\n",
    "# 3️⃣ Function to append query results to a single sheet\n",
    "# -----------------------------\n",
    "def append_query_to_sheet(query, worksheet_name, sheet_url):\n",
    "    df = run_query(query)\n",
    "    sheet = client.open_by_url(sheet_url).worksheet(worksheet_name)\n",
    "    \n",
    "    # Get the next empty row\n",
    "    next_row = len(sheet.get_all_values()) + 2\n",
    "    \n",
    "    # Add a separator or header for new query (optional)\n",
    "    sheet.update(f\"A{next_row}\", [[f\"--- New Query Result ---\"]])\n",
    "    next_row += 1\n",
    "    \n",
    "    # Write DataFrame starting from the next empty row\n",
    "    set_with_dataframe(sheet, df, row=next_row, include_index=False)\n",
    "    \n",
    "    print(f\"✅ Query results appended successfully to {worksheet_name}!\")\n",
    "\n",
    "# -----------------------------\n",
    "# 4️⃣ Example usage\n",
    "# -----------------------------\n",
    "sheet_url = \"https://docs.google.com/spreadsheets/d/1YO8Wh3ufLquyIsjEQGIfinWgIz0HqxiOU_BlLXg1QS8/edit\"\n",
    "worksheet_name = \"Zepto1\"\n",
    "\n",
    "# First query\n",
    "query1 = \"\"\"\n",
    "select category,\n",
    "round(sum(discountedsellingprice)::numeric/1000000,2) as revenue_in_millions\n",
    "from zepto\n",
    "group by category\n",
    "order by revenue_in_millions desc \n",
    "limit 3;\n",
    "\"\"\"\n",
    "append_query_to_sheet(query1, worksheet_name, sheet_url)\n",
    "\n",
    "# Second query\n",
    "query2 = \"\"\"\n",
    "select category,\n",
    "round(avg(discountPercent),2) as avg_discount\n",
    "from zepto\n",
    "group by category\n",
    "order by avg_discount desc\n",
    "limit 3;\n",
    "\"\"\"\n",
    "append_query_to_sheet(query2, worksheet_name, sheet_url)\n",
    "\n",
    "# Third query\n",
    "query3 = \"\"\"\n",
    "select name,\n",
    "category,\n",
    "mrp,\n",
    "discountedSellingPrice,\n",
    "discountPercent\n",
    "from zepto\n",
    "order by 4 desc\n",
    "limit 5;\n",
    "\"\"\"\n",
    "append_query_to_sheet(query3, worksheet_name, sheet_url)\n"
   ]
  },
  {
   "cell_type": "code",
   "execution_count": 15,
   "id": "eadc2fc3-b1a8-46a6-9bfc-f658b98337c2",
   "metadata": {},
   "outputs": [
    {
     "name": "stderr",
     "output_type": "stream",
     "text": [
      "C:\\Users\\Jayasurya R N\\AppData\\Local\\Temp\\ipykernel_22724\\3095730502.py:47: DeprecationWarning: The order of arguments in worksheet.update() has changed. Please pass values first and range_name secondor used named arguments (range_name=, values=)\n",
      "  sheet.update(f\"A{next_row}\", [[f\"--- New Query Result ---\"]])\n"
     ]
    },
    {
     "name": "stdout",
     "output_type": "stream",
     "text": [
      "✅ Query results appended successfully to Zepto1!\n"
     ]
    }
   ],
   "source": [
    "# 4 query\n",
    "query4 = \"\"\"\n",
    "select category,\n",
    "round(avg(discountPercent),2) as avg_discount\n",
    "from zepto\n",
    "group by category\n",
    "order by avg_discount desc\n",
    "limit 3;\n",
    "\"\"\"\n",
    "append_query_to_sheet(query4, worksheet_name, sheet_url)"
   ]
  },
  {
   "cell_type": "code",
   "execution_count": 16,
   "id": "b62bc070-d0e3-4967-a4aa-58af2dff7f26",
   "metadata": {},
   "outputs": [
    {
     "name": "stderr",
     "output_type": "stream",
     "text": [
      "C:\\Users\\Jayasurya R N\\AppData\\Local\\Temp\\ipykernel_22724\\3095730502.py:47: DeprecationWarning: The order of arguments in worksheet.update() has changed. Please pass values first and range_name secondor used named arguments (range_name=, values=)\n",
      "  sheet.update(f\"A{next_row}\", [[f\"--- New Query Result ---\"]])\n"
     ]
    },
    {
     "name": "stdout",
     "output_type": "stream",
     "text": [
      "✅ Query results appended successfully to Zepto1!\n"
     ]
    }
   ],
   "source": [
    "query5 = \"\"\"\n",
    "select name,sum(discountedsellingprice) as total_revenue\n",
    "from zepto\n",
    "group by name\n",
    "order by total_revenue desc\n",
    "limit 3;\n",
    "\"\"\"\n",
    "append_query_to_sheet(query5, worksheet_name, sheet_url)"
   ]
  },
  {
   "cell_type": "code",
   "execution_count": 17,
   "id": "12c4c922-7322-4e02-9248-782bb09f5398",
   "metadata": {},
   "outputs": [
    {
     "name": "stderr",
     "output_type": "stream",
     "text": [
      "C:\\Users\\Jayasurya R N\\AppData\\Local\\Temp\\ipykernel_22724\\3095730502.py:47: DeprecationWarning: The order of arguments in worksheet.update() has changed. Please pass values first and range_name secondor used named arguments (range_name=, values=)\n",
      "  sheet.update(f\"A{next_row}\", [[f\"--- New Query Result ---\"]])\n"
     ]
    },
    {
     "name": "stdout",
     "output_type": "stream",
     "text": [
      "✅ Query results appended successfully to Zepto1!\n"
     ]
    }
   ],
   "source": [
    "query6 = \"\"\"\n",
    "select \n",
    "ROUND(sum(discountPercent * quantity),2) AS total_revenue\n",
    "from zepto;\n",
    "\"\"\"\n",
    "append_query_to_sheet(query6, worksheet_name, sheet_url)"
   ]
  },
  {
   "cell_type": "code",
   "execution_count": 18,
   "id": "d0e3c0f9-ce68-4fe1-b58e-0341b38a40f9",
   "metadata": {},
   "outputs": [
    {
     "name": "stderr",
     "output_type": "stream",
     "text": [
      "C:\\Users\\Jayasurya R N\\AppData\\Local\\Temp\\ipykernel_22724\\3095730502.py:47: DeprecationWarning: The order of arguments in worksheet.update() has changed. Please pass values first and range_name secondor used named arguments (range_name=, values=)\n",
      "  sheet.update(f\"A{next_row}\", [[f\"--- New Query Result ---\"]])\n"
     ]
    },
    {
     "name": "stdout",
     "output_type": "stream",
     "text": [
      "✅ Query results appended successfully to Zepto1!\n"
     ]
    }
   ],
   "source": [
    "query6 = \"\"\"\n",
    "select count( distinct category) as no_of_category\n",
    "from zepto;\n",
    "\"\"\"\n",
    "append_query_to_sheet(query6, worksheet_name, sheet_url)"
   ]
  },
  {
   "cell_type": "code",
   "execution_count": 19,
   "id": "3805ad98-3c56-48bd-9156-975092c85ee8",
   "metadata": {},
   "outputs": [
    {
     "name": "stderr",
     "output_type": "stream",
     "text": [
      "C:\\Users\\Jayasurya R N\\AppData\\Local\\Temp\\ipykernel_22724\\3095730502.py:47: DeprecationWarning: The order of arguments in worksheet.update() has changed. Please pass values first and range_name secondor used named arguments (range_name=, values=)\n",
      "  sheet.update(f\"A{next_row}\", [[f\"--- New Query Result ---\"]])\n"
     ]
    },
    {
     "name": "stdout",
     "output_type": "stream",
     "text": [
      "✅ Query results appended successfully to Zepto1!\n"
     ]
    }
   ],
   "source": [
    "query6 = \"\"\"\n",
    "select category,\n",
    "ROUND(sum(discountPercent * quantity),2) AS total_revenue\n",
    "from zepto\n",
    "group by category\n",
    "order by total_revenue desc;\n",
    "\"\"\"\n",
    "append_query_to_sheet(query6, worksheet_name, sheet_url)"
   ]
  },
  {
   "cell_type": "code",
   "execution_count": 20,
   "id": "78a16064-e92d-4cf3-8a7c-d83cdaaecf6b",
   "metadata": {},
   "outputs": [
    {
     "name": "stderr",
     "output_type": "stream",
     "text": [
      "C:\\Users\\Jayasurya R N\\AppData\\Local\\Temp\\ipykernel_22724\\3095730502.py:47: DeprecationWarning: The order of arguments in worksheet.update() has changed. Please pass values first and range_name secondor used named arguments (range_name=, values=)\n",
      "  sheet.update(f\"A{next_row}\", [[f\"--- New Query Result ---\"]])\n"
     ]
    },
    {
     "name": "stdout",
     "output_type": "stream",
     "text": [
      "✅ Query results appended successfully to Zepto1!\n"
     ]
    }
   ],
   "source": [
    "query8 = \"\"\"\n",
    "select count(distinct name) as num_items\n",
    "from zepto;\n",
    "\"\"\"\n",
    "append_query_to_sheet(query8,worksheet_name,sheet_url)"
   ]
  },
  {
   "cell_type": "code",
   "execution_count": 22,
   "id": "9d97d705-2dff-4b7b-80c0-a901a9bcb782",
   "metadata": {},
   "outputs": [
    {
     "name": "stderr",
     "output_type": "stream",
     "text": [
      "C:\\Users\\Jayasurya R N\\AppData\\Local\\Temp\\ipykernel_22724\\3095730502.py:47: DeprecationWarning: The order of arguments in worksheet.update() has changed. Please pass values first and range_name secondor used named arguments (range_name=, values=)\n",
      "  sheet.update(f\"A{next_row}\", [[f\"--- New Query Result ---\"]])\n"
     ]
    },
    {
     "name": "stdout",
     "output_type": "stream",
     "text": [
      "✅ Query results appended successfully to Zepto1!\n"
     ]
    }
   ],
   "source": [
    "query9 = \"\"\"\n",
    "select\n",
    "category,\n",
    "round(sum(discountedsellingprice),2) as Revenue,\n",
    "sum(mrp - discountedsellingprice) as total_discount_value\n",
    "from zepto\n",
    "group by category\n",
    "order by 2 DESC;\n",
    "\"\"\"\n",
    "append_query_to_sheet(query9,worksheet_name,sheet_url)"
   ]
  },
  {
   "cell_type": "code",
   "execution_count": null,
   "id": "651bfc8b-bcea-4bd1-a254-774424593291",
   "metadata": {},
   "outputs": [],
   "source": []
  }
 ],
 "metadata": {
  "kernelspec": {
   "display_name": "Python 3 (ipykernel)",
   "language": "python",
   "name": "python3"
  },
  "language_info": {
   "codemirror_mode": {
    "name": "ipython",
    "version": 3
   },
   "file_extension": ".py",
   "mimetype": "text/x-python",
   "name": "python",
   "nbconvert_exporter": "python",
   "pygments_lexer": "ipython3",
   "version": "3.12.4"
  }
 },
 "nbformat": 4,
 "nbformat_minor": 5
}
